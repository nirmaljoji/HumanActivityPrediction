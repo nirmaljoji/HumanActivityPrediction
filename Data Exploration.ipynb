{
    "cells": [
        {
            "cell_type": "markdown",
            "metadata": {
                "deletable": false,
                "editable": false,
                "nbgrader": {
                    "grade": false,
                    "locked": true,
                    "solution": false
                }
            },
            "source": [
                "## Data Exploration\n",
                "\n",
                "This script illustrates how to load, visualize the data and perform some basic exploratory data analysis."
            ]
        },
        {
            "cell_type": "code",
            "execution_count": 34,
            "metadata": {
                "deletable": false,
                "editable": false,
                "nbgrader": {
                    "grade": false,
                    "locked": true,
                    "solution": false
                }
            },
            "outputs": [],
            "source": [
                "import numpy as np\n",
                "import fncs\n",
                "import matplotlib.pyplot as plt\n",
                "\n",
                "import warnings\n",
                "warnings.filterwarnings(\"ignore\")"
            ]
        },
        {
            "cell_type": "markdown",
            "metadata": {
                "deletable": false,
                "editable": false,
                "nbgrader": {
                    "grade": false,
                    "locked": true,
                    "solution": false
                }
            },
            "source": [
                "### Analyzing Data over a Single Trial\n",
                "\n",
                "Loading the data."
            ]
        },
        {
            "cell_type": "code",
            "execution_count": 35,
            "metadata": {
                "deletable": false,
                "editable": false,
                "nbgrader": {
                    "grade": false,
                    "locked": true,
                    "solution": false
                }
            },
            "outputs": [],
            "source": [
                "dataFolder = dirTrain = '../data/train/'\n",
                "xt, xv, yt, yv = fncs.loadTrial(dataFolder,id=1)"
            ]
        },
        {
            "cell_type": "markdown",
            "metadata": {
                "deletable": false,
                "editable": false,
                "nbgrader": {
                    "grade": false,
                    "locked": true,
                    "solution": false
                }
            },
            "source": [
                "Plotting the measurements and labels."
            ]
        },
        {
            "cell_type": "code",
            "execution_count": 36,
            "metadata": {
                "deletable": false,
                "editable": false,
                "nbgrader": {
                    "grade": false,
                    "locked": true,
                    "solution": false
                }
            },
            "outputs": [],
            "source": [
                "# Specifying a window of time for display\n",
                "t_min = 90\n",
                "t_max = 150\n",
                "\n",
                "# Plotting the data\n",
                "fig, (ax1,ax2) = plt.subplots(2,1)\n",
                "fig.set_size_inches(10,6)\n",
                "\n",
                "ax1.plot(xt,xv[:,0:3])\n",
                "ax1.axis([t_min,t_max,-40,40])\n",
                "ax1.set_ylabel('Measurements')\n",
                "ax1.legend(['acc-x','acc-y','acc-z'])\n",
                "\n",
                "ax2.plot(yt,yv)\n",
                "ax2.axis([t_min,t_max,-0.5,3.5])\n",
                "ax2.set_xlabel('time (sec)')\n",
                "ax2.set_ylabel('Labels')\n",
                "\n",
                "plt.show()\n",
                "\n",
                "# Displaying the labels\n",
                "print('Labels include the following Locomotion Modes:')\n",
                "print('(0) Standing / Walking Hard Terrain')\n",
                "print('(1) Climbing Down Stairs')\n",
                "print('(2) Climbing Up Stairs')\n",
                "print('(3) Walking Soft Terrain')\n"
            ]
        },
        {
            "cell_type": "markdown",
            "metadata": {
                "deletable": false,
                "editable": false,
                "nbgrader": {
                    "grade": false,
                    "locked": true,
                    "solution": false
                }
            },
            "source": [
                "Compute the mean and standard deviation of the period between samples to make sure that they match with the description."
            ]
        },
        {
            "cell_type": "code",
            "execution_count": 37,
            "metadata": {
                "deletable": false,
                "editable": false,
                "nbgrader": {
                    "grade": false,
                    "locked": true,
                    "solution": false
                }
            },
            "outputs": [],
            "source": [
                "dxt = np.diff(xt)\n",
                "print('Timestamps for x: Mean = {:5.3f} | Std = {:5.3f}'.format(np.mean(dxt),np.std(dxt)))\n",
                "\n",
                "dyt = np.diff(yt)\n",
                "print('Timestamps for y: Mean = {:5.3f} | Std = {:5.3f}'.format(np.mean(dyt),np.std(dyt)))"
            ]
        },
        {
            "cell_type": "markdown",
            "metadata": {
                "deletable": false,
                "editable": false,
                "nbgrader": {
                    "grade": false,
                    "locked": true,
                    "solution": false
                }
            },
            "source": [
                "Displaying the histogram of labels. Not that this distribution is imbalanced. You may need to consider techniques for handling this during your model selection."
            ]
        },
        {
            "cell_type": "code",
            "execution_count": 38,
            "metadata": {},
            "outputs": [],
            "source": [
                "# 'yCounts' should be a list with 4 entries containing the counts for each class from 'yv'.\n",
                "yCounts = []\n",
                "\n",
                "yCounts = np.unique(yv, return_counts=True)[1]\n"
            ]
        },
        {
            "cell_type": "code",
            "execution_count": 39,
            "metadata": {
                "deletable": false,
                "editable": false,
                "nbgrader": {
                    "grade": false,
                    "locked": true,
                    "solution": false
                }
            },
            "outputs": [],
            "source": [
                "# Plottinng the counts\n",
                "plt.bar([0,1,2,3],yCounts)\n",
                "plt.xticks([0,1,2,3])\n",
                "plt.xlabel('Labels')\n",
                "plt.title('Histogram of Labels')\n",
                "plt.show()"
            ]
        },
        {
            "cell_type": "code",
            "execution_count": 40,
            "metadata": {
                "deletable": false,
                "editable": false,
                "nbgrader": {
                    "grade": true,
                    "grade_id": "Check1",
                    "locked": true,
                    "points": "10",
                    "solution": false
                }
            },
            "outputs": [],
            "source": [
                "###\n",
                "### AUTOGRADER TEST - DO NOT REMOVE\n",
                "###\n"
            ]
        },
        {
            "cell_type": "markdown",
            "metadata": {
                "deletable": false,
                "editable": false,
                "nbgrader": {
                    "grade": false,
                    "locked": true,
                    "solution": false
                }
            },
            "source": [
                "Extracting some hand-crafted features and displaying a correlogram of these values."
            ]
        },
        {
            "cell_type": "code",
            "execution_count": 49,
            "metadata": {},
            "outputs": [],
            "source": [
                "# This function extracts features from the measurements.\n",
                "def extractFeat(xt,xv,winSz,timeStart,timeEnd,timeStep):\n",
                "    tList = []\n",
                "    featList = []\n",
                "\n",
                "    # Specifying the initial window for extracting features\n",
                "    t0 = timeStart\n",
                "    t1 = t0+winSz\n",
                "\n",
                "    while(t1<=timeEnd):\n",
                "        # Using the middle time of the window as a reference time\n",
                "        tList.append((t0+t1)/2)\n",
                "\n",
                "        # Extracting features. First, extract a window from the data that consists on the\n",
                "        # measurements that are exactly in the interval [t0,t1]. Then, let 'f1' be the means of the\n",
                "        # features, and 'f2' be the standard deviation of the window of values extracted. Each one\n",
                "        # of 'f1' and 'f2' should have the same length as the number of columns in 'xv'.\n",
                "        ###\n",
                "        ### YOUR CODE HERE\n",
                "        ###\n",
                "        window_data = xv[(xt >= t0) & (xt <= t1)]\n",
                "        print(window_data)\n",
                "        # Calculate mean and standard deviation for the window\n",
                "        if len(window_data) > 1:\n",
                "            f1 = np.mean(window_data, axis=0)  # Calculate means\n",
                "            f2 = np.std(window_data, axis=0)   # Calculate standard deviations\n",
                "        else:\n",
                "            f1 = window_data  # If only one value, set f1 as is\n",
                "            f2 = np.zeros_like(window_data)\n",
                "\n",
                "\n",
                "        # Storing the features\n",
                "        featList.append(np.concatenate((f1,f2)))\n",
                "\n",
                "        # Updating the window by shifting it by the step size\n",
                "        t0 = t0+timeStep\n",
                "        t1 = t0+winSz\n",
                "\n",
                "    tList = np.array(tList)\n",
                "    featList = np.array(featList)\n",
                "\n",
                "    return tList, featList"
            ]
        },
        {
            "cell_type": "code",
            "execution_count": 50,
            "metadata": {
                "deletable": false,
                "editable": false,
                "nbgrader": {
                    "grade": false,
                    "locked": true,
                    "solution": false
                }
            },
            "outputs": [],
            "source": [
                "# Specifying some parameters for the feature extraction\n",
                "timeStart = np.min(xt) # Starting time for the first window\n",
                "timeEnd = np.max(xt) # The windows cannot go beyond the end time\n",
                "timeStep = 1 # The step size used to shift the windows\n",
                "winSz = 2 # The size of a window for feature extraction\n",
                "\n",
                "# Getting the features\n",
                "tList,featList = extractFeat(xt,xv,winSz,timeStart,timeEnd,timeStep)\n",
                "\n",
                "# Displaying a correlogram\n",
                "import seaborn as sns\n",
                "import pandas as pd\n",
                "sns.pairplot(pd.DataFrame(featList))\n",
                "plt.show()\n"
            ]
        },
        {
            "cell_type": "code",
            "execution_count": 47,
            "metadata": {
                "deletable": false,
                "editable": false,
                "nbgrader": {
                    "grade": true,
                    "grade_id": "Check2",
                    "locked": true,
                    "points": "10",
                    "solution": false
                }
            },
            "outputs": [],
            "source": [
                "assert featList.shape[0] == 946, 'The number of windows is incorrect. You may have change the code in an inappropriate location.'\n",
                "assert featList.shape[1] == 12, 'You are not extracting the correct numbef of features.'"
            ]
        },
        {
            "cell_type": "code",
            "execution_count": 48,
            "metadata": {
                "deletable": false,
                "editable": false,
                "nbgrader": {
                    "grade": true,
                    "grade_id": "Check3",
                    "locked": true,
                    "points": "20",
                    "solution": false
                }
            },
            "outputs": [],
            "source": [
                "###\n",
                "### AUTOGRADER TEST - DO NOT REMOVE\n",
                "###\n"
            ]
        },
        {
            "cell_type": "markdown",
            "metadata": {
                "deletable": false,
                "editable": false,
                "nbgrader": {
                    "grade": false,
                    "locked": true,
                    "solution": false
                }
            },
            "source": [
                "It can be observed that some of the features seem to be failry correlated. This could be used to for feature selection if needed. Also, the range of the values have a different of a factor over 10 in some cases, which may indicate the need for feature normalization."
            ]
        },
        {
            "cell_type": "markdown",
            "metadata": {
                "deletable": false,
                "editable": false,
                "nbgrader": {
                    "grade": false,
                    "locked": true,
                    "solution": false
                }
            },
            "source": [
                "### Analyzing Data over Entire Dataset\n",
                "\n",
                "We extract summaries for each one of the features."
            ]
        },
        {
            "cell_type": "code",
            "execution_count": 20,
            "metadata": {
                "deletable": false,
                "editable": false,
                "nbgrader": {
                    "grade": false,
                    "locked": true,
                    "solution": false
                }
            },
            "outputs": [],
            "source": [
                "dataFolder = dirTrain = '../data/train/'\n",
                "\n",
                "# Specifying some parameters for the feature extraction\n",
                "timeStep = 1\n",
                "winSz = 2\n",
                "\n",
                "for id in range(29):\n",
                "    # Loading data and extracting features\n",
                "    xt, xv, yt, yv = fncs.loadTrial(dataFolder,id=id+1)\n",
                "    timeStart = np.min(xt)\n",
                "    timeEnd = np.max(xt)\n",
                "    tList,featList = extractFeat(xt,xv,winSz,timeStart,timeEnd,timeStep)\n",
                "\n",
                "    # Extracting some summaries\n",
                "    yCounts, bin_edges = np.histogram(yv, bins=[-0.5,0.5,1.5,2.5,3.5])\n",
                "\n",
                "    # Storing values for analysis\n",
                "    if(id==0):\n",
                "        ySummary = np.array([yCounts/sum(yCounts)])\n",
                "        featSummary = np.array([np.mean(featList,axis=0)])\n",
                "    else:\n",
                "        ySummary = np.concatenate((ySummary,np.array([yCounts/sum(yCounts)])),axis=0)\n",
                "        featSummary = np.concatenate((featSummary,np.array([np.mean(featList,axis=0)])),axis=0)\n",
                "\n"
            ]
        },
        {
            "cell_type": "markdown",
            "metadata": {
                "deletable": false,
                "editable": false,
                "nbgrader": {
                    "grade": false,
                    "locked": true,
                    "solution": false
                }
            },
            "source": [
                "Plotting the distribution of the per-trial frequencies of labels."
            ]
        },
        {
            "cell_type": "code",
            "execution_count": 21,
            "metadata": {
                "deletable": false,
                "editable": false,
                "nbgrader": {
                    "grade": false,
                    "locked": true,
                    "solution": false
                }
            },
            "outputs": [],
            "source": [
                "plt.boxplot(ySummary)\n",
                "plt.xticks([1,2,3,4],[0,1,2,3])\n",
                "plt.show()"
            ]
        },
        {
            "cell_type": "markdown",
            "metadata": {
                "deletable": false,
                "editable": false,
                "nbgrader": {
                    "grade": false,
                    "locked": true,
                    "solution": false
                }
            },
            "source": [
                "Plotting the distribution of the average (over trial) features."
            ]
        },
        {
            "cell_type": "code",
            "execution_count": 22,
            "metadata": {
                "deletable": false,
                "editable": false,
                "nbgrader": {
                    "grade": false,
                    "locked": true,
                    "solution": false
                }
            },
            "outputs": [],
            "source": [
                "# We are normalizing over\n",
                "\n",
                "plt.boxplot(featSummary)\n",
                "plt.show()"
            ]
        },
        {
            "cell_type": "markdown",
            "metadata": {
                "deletable": false,
                "editable": false,
                "nbgrader": {
                    "grade": false,
                    "locked": true,
                    "solution": false
                }
            },
            "source": [
                "From these plots, we observe that there is some variability on the distributions but overall consistent trends."
            ]
        }
    ],
    "metadata": {
        "kernelspec": {
            "display_name": "Python 3 [3.10]",
            "language": "python",
            "name": "python3"
        },
        "language_info": {
            "codemirror_mode": {
                "name": "ipython",
                "version": 3
            },
            "file_extension": ".py",
            "mimetype": "text/x-python",
            "name": "python",
            "nbconvert_exporter": "python",
            "pygments_lexer": "ipython3",
            "version": "3.10.2"
        }
    },
    "nbformat": 4,
    "nbformat_minor": 4
}