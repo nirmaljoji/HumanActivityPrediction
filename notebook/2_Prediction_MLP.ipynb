{
 "cells": [
  {
   "cell_type": "markdown",
   "metadata": {
    "deletable": false,
    "editable": false,
    "id": "bHw2XgHzmQhX",
    "nbgrader": {
     "grade": false,
     "locked": true,
     "solution": false
    }
   },
   "source": [
    "## Creating a Baseline\n",
    "\n",
    "This script will walk you through the creating of a baseline model for the data."
   ]
  },
  {
   "cell_type": "code",
   "execution_count": 2,
   "metadata": {
    "colab": {
     "base_uri": "https://localhost:8080/"
    },
    "deletable": false,
    "editable": false,
    "executionInfo": {
     "elapsed": 1843,
     "status": "ok",
     "timestamp": 1711034777901,
     "user": {
      "displayName": "Edgar Lobaton",
      "userId": "02856608958118334478"
     },
     "user_tz": 240
    },
    "id": "lM2Ii3T1mQha",
    "nbgrader": {
     "grade": false,
     "locked": true,
     "solution": false
    },
    "outputId": "2c78b9ec-e84d-4e56-c8a6-3f95e67da126"
   },
   "outputs": [
    {
     "data": {
      "text/plain": [
       "<module 'fncs' from '/voc/work/fncs.py'>"
      ]
     },
     "execution_count": 2,
     "metadata": {},
     "output_type": "execute_result"
    }
   ],
   "source": [
    "import numpy as np\n",
    "import importlib\n",
    "import fncs\n",
    "import matplotlib.pyplot as plt\n",
    "import random\n",
    "\n",
    "importlib.reload(fncs)"
   ]
  },
  {
   "cell_type": "markdown",
   "metadata": {
    "deletable": false,
    "editable": false,
    "id": "heZK31KGmQhc",
    "nbgrader": {
     "grade": false,
     "locked": true,
     "solution": false
    }
   },
   "source": [
    "### Loading the Data and Features\n",
    "\n",
    "First, we define a helper function to load the data and compute the features. Take a look at how the labels are extracted by following a similar procedure for window extraction and assigning the mode."
   ]
  },
  {
   "cell_type": "code",
   "execution_count": 4,
   "metadata": {
    "deletable": false,
    "editable": false,
    "executionInfo": {
     "elapsed": 206,
     "status": "ok",
     "timestamp": 1711034779949,
     "user": {
      "displayName": "Edgar Lobaton",
      "userId": "02856608958118334478"
     },
     "user_tz": 240
    },
    "id": "C6RI-e2smQhc",
    "nbgrader": {
     "grade": false,
     "locked": true,
     "solution": false
    }
   },
   "outputs": [],
   "source": [
    "# It loads the data and extracts the features\n",
    "def loadFeatures(dataFolder,winSz,timeStep,idList):\n",
    "    for k,id in enumerate(idList):\n",
    "        # Loading the raw data\n",
    "        xt, xv, yt, yv = fncs.loadTrial(dataFolder,id=id)\n",
    "\n",
    "        # Extracting the time window for which we have values for the measurements and the response\n",
    "        timeStart = np.max((np.min(xt),np.min(yt)))\n",
    "        timeEnd = np.min((np.max(xt),np.max(yt)))\n",
    "\n",
    "        # Extracting the features\n",
    "        _, feat = fncs.extractFeat(xt,xv,winSz,timeStart,timeEnd,timeStep)\n",
    "        _, lab = fncs.extractLabel(yt,yv,winSz,timeStart,timeEnd,timeStep)\n",
    "\n",
    "        # Storing the features\n",
    "        if(k==0):\n",
    "            featList = feat\n",
    "            labList = lab\n",
    "        else:\n",
    "            featList = np.concatenate((featList,feat),axis=0)\n",
    "            labList = np.concatenate((labList,lab),axis=0)\n",
    "\n",
    "    return featList, labList"
   ]
  },
  {
   "cell_type": "markdown",
   "metadata": {
    "deletable": false,
    "editable": false,
    "nbgrader": {
     "grade": false,
     "locked": true,
     "solution": false
    }
   },
   "source": [
    "Extracting the features for the training data and splitting it into training / validation."
   ]
  },
  {
   "cell_type": "code",
   "execution_count": 5,
   "metadata": {
    "deletable": false,
    "editable": false,
    "executionInfo": {
     "elapsed": 75965,
     "status": "ok",
     "timestamp": 1711034858184,
     "user": {
      "displayName": "Edgar Lobaton",
      "userId": "02856608958118334478"
     },
     "user_tz": 240
    },
    "id": "wKG6uX6tmQhc",
    "nbgrader": {
     "grade": false,
     "locked": true,
     "solution": false
    }
   },
   "outputs": [],
   "source": [
    "# Specifying the data directory\n",
    "dirTrain = '../data/train/'\n",
    "\n",
    "# Specifying some parameters for the feature extraction\n",
    "timeStep = 1\n",
    "winSz = 2\n",
    "\n",
    "# Specifying IDs for training and validation sets\n",
    "valIDs = [2,11,25]\n",
    "trainIDs = list(set(np.array(range(29))+1).difference(valIDs))\n",
    "\n",
    "# Recovering the features and labels\n",
    "xTrain, yTrain = loadFeatures(dirTrain,winSz,timeStep,trainIDs)\n",
    "xVal, yVal = loadFeatures(dirTrain,winSz,timeStep,valIDs)"
   ]
  },
  {
   "cell_type": "code",
   "execution_count": 6,
   "metadata": {},
   "outputs": [
    {
     "data": {
      "text/plain": [
       "array([0, 0, 0, 0, 0, 0, 0, 0, 0, 0])"
      ]
     },
     "execution_count": 6,
     "metadata": {},
     "output_type": "execute_result"
    }
   ],
   "source": [
    "yTrain[:10]"
   ]
  },
  {
   "cell_type": "markdown",
   "metadata": {
    "deletable": false,
    "editable": false,
    "nbgrader": {
     "grade": false,
     "locked": true,
     "solution": false
    }
   },
   "source": [
    "### Training an RF Classifier\n",
    "\n",
    "An RF will be one of the models that we will consider as a baseline. Let us begin by defining some helper functions."
   ]
  },
  {
   "cell_type": "code",
   "execution_count": 7,
   "metadata": {
    "deletable": false,
    "editable": false,
    "nbgrader": {
     "grade": false,
     "locked": true,
     "solution": false
    }
   },
   "outputs": [],
   "source": [
    "import sklearn.metrics as metrics\n",
    "from sklearn.metrics import accuracy_score, confusion_matrix, ConfusionMatrixDisplay\n",
    "\n",
    "# This function produces a summary of performance metrics including a confusion matrix\n",
    "def summaryPerf(yTrain,yTrainHat,y,yHat):\n",
    "    # Plotting confusion matrix for the non-training set:\n",
    "    cm = metrics.confusion_matrix(y,yHat,normalize='true')\n",
    "    disp = metrics.ConfusionMatrixDisplay(confusion_matrix=cm,display_labels=\n",
    "                                  ['Walk Hard','Down Stairs','Up Stairs','Walk Soft'])\n",
    "    disp.plot()\n",
    "\n",
    "    # Displaying metrics for training and non-training sets\n",
    "    print('Training:  Acc = {:4.3f}'.format(metrics.accuracy_score(yTrain,yTrainHat)))\n",
    "    print('Non-Train: Acc = {:4.3f}'.format(metrics.accuracy_score(y,yHat)))\n",
    "    print('Training:  BalAcc = {:4.3f}'.format(metrics.balanced_accuracy_score(yTrain,yTrainHat)))\n",
    "    print('Non-Train: BalAcc = {:4.3f}'.format(metrics.balanced_accuracy_score(y,yHat)))"
   ]
  },
  {
   "cell_type": "markdown",
   "metadata": {
    "deletable": false,
    "editable": false,
    "nbgrader": {
     "grade": false,
     "locked": true,
     "solution": false
    }
   },
   "source": [
    "Defining and training the model."
   ]
  },
  {
   "cell_type": "code",
   "execution_count": 8,
   "metadata": {
    "colab": {
     "base_uri": "https://localhost:8080/",
     "height": 74
    },
    "deletable": false,
    "editable": false,
    "executionInfo": {
     "elapsed": 23446,
     "status": "ok",
     "timestamp": 1711034881628,
     "user": {
      "displayName": "Edgar Lobaton",
      "userId": "02856608958118334478"
     },
     "user_tz": 240
    },
    "id": "nNe8pX7EmQhc",
    "nbgrader": {
     "grade": false,
     "locked": true,
     "solution": false
    },
    "outputId": "b8134018-985f-49c2-a6fc-a31bf701fa5a"
   },
   "outputs": [
    {
     "data": {
      "text/html": [
       "<style>#sk-container-id-1 {color: black;}#sk-container-id-1 pre{padding: 0;}#sk-container-id-1 div.sk-toggleable {background-color: white;}#sk-container-id-1 label.sk-toggleable__label {cursor: pointer;display: block;width: 100%;margin-bottom: 0;padding: 0.3em;box-sizing: border-box;text-align: center;}#sk-container-id-1 label.sk-toggleable__label-arrow:before {content: \"▸\";float: left;margin-right: 0.25em;color: #696969;}#sk-container-id-1 label.sk-toggleable__label-arrow:hover:before {color: black;}#sk-container-id-1 div.sk-estimator:hover label.sk-toggleable__label-arrow:before {color: black;}#sk-container-id-1 div.sk-toggleable__content {max-height: 0;max-width: 0;overflow: hidden;text-align: left;background-color: #f0f8ff;}#sk-container-id-1 div.sk-toggleable__content pre {margin: 0.2em;color: black;border-radius: 0.25em;background-color: #f0f8ff;}#sk-container-id-1 input.sk-toggleable__control:checked~div.sk-toggleable__content {max-height: 200px;max-width: 100%;overflow: auto;}#sk-container-id-1 input.sk-toggleable__control:checked~label.sk-toggleable__label-arrow:before {content: \"▾\";}#sk-container-id-1 div.sk-estimator input.sk-toggleable__control:checked~label.sk-toggleable__label {background-color: #d4ebff;}#sk-container-id-1 div.sk-label input.sk-toggleable__control:checked~label.sk-toggleable__label {background-color: #d4ebff;}#sk-container-id-1 input.sk-hidden--visually {border: 0;clip: rect(1px 1px 1px 1px);clip: rect(1px, 1px, 1px, 1px);height: 1px;margin: -1px;overflow: hidden;padding: 0;position: absolute;width: 1px;}#sk-container-id-1 div.sk-estimator {font-family: monospace;background-color: #f0f8ff;border: 1px dotted black;border-radius: 0.25em;box-sizing: border-box;margin-bottom: 0.5em;}#sk-container-id-1 div.sk-estimator:hover {background-color: #d4ebff;}#sk-container-id-1 div.sk-parallel-item::after {content: \"\";width: 100%;border-bottom: 1px solid gray;flex-grow: 1;}#sk-container-id-1 div.sk-label:hover label.sk-toggleable__label {background-color: #d4ebff;}#sk-container-id-1 div.sk-serial::before {content: \"\";position: absolute;border-left: 1px solid gray;box-sizing: border-box;top: 0;bottom: 0;left: 50%;z-index: 0;}#sk-container-id-1 div.sk-serial {display: flex;flex-direction: column;align-items: center;background-color: white;padding-right: 0.2em;padding-left: 0.2em;position: relative;}#sk-container-id-1 div.sk-item {position: relative;z-index: 1;}#sk-container-id-1 div.sk-parallel {display: flex;align-items: stretch;justify-content: center;background-color: white;position: relative;}#sk-container-id-1 div.sk-item::before, #sk-container-id-1 div.sk-parallel-item::before {content: \"\";position: absolute;border-left: 1px solid gray;box-sizing: border-box;top: 0;bottom: 0;left: 50%;z-index: -1;}#sk-container-id-1 div.sk-parallel-item {display: flex;flex-direction: column;z-index: 1;position: relative;background-color: white;}#sk-container-id-1 div.sk-parallel-item:first-child::after {align-self: flex-end;width: 50%;}#sk-container-id-1 div.sk-parallel-item:last-child::after {align-self: flex-start;width: 50%;}#sk-container-id-1 div.sk-parallel-item:only-child::after {width: 0;}#sk-container-id-1 div.sk-dashed-wrapped {border: 1px dashed gray;margin: 0 0.4em 0.5em 0.4em;box-sizing: border-box;padding-bottom: 0.4em;background-color: white;}#sk-container-id-1 div.sk-label label {font-family: monospace;font-weight: bold;display: inline-block;line-height: 1.2em;}#sk-container-id-1 div.sk-label-container {text-align: center;}#sk-container-id-1 div.sk-container {/* jupyter's `normalize.less` sets `[hidden] { display: none; }` but bootstrap.min.css set `[hidden] { display: none !important; }` so we also need the `!important` here to be able to override the default hidden behavior on the sphinx rendered scikit-learn.org. See: https://github.com/scikit-learn/scikit-learn/issues/21755 */display: inline-block !important;position: relative;}#sk-container-id-1 div.sk-text-repr-fallback {display: none;}</style><div id=\"sk-container-id-1\" class=\"sk-top-container\"><div class=\"sk-text-repr-fallback\"><pre>RandomForestClassifier()</pre><b>In a Jupyter environment, please rerun this cell to show the HTML representation or trust the notebook. <br />On GitHub, the HTML representation is unable to render, please try loading this page with nbviewer.org.</b></div><div class=\"sk-container\" hidden><div class=\"sk-item\"><div class=\"sk-estimator sk-toggleable\"><input class=\"sk-toggleable__control sk-hidden--visually\" id=\"sk-estimator-id-1\" type=\"checkbox\" checked><label for=\"sk-estimator-id-1\" class=\"sk-toggleable__label sk-toggleable__label-arrow\">RandomForestClassifier</label><div class=\"sk-toggleable__content\"><pre>RandomForestClassifier()</pre></div></div></div></div></div>"
      ],
      "text/plain": [
       "RandomForestClassifier()"
      ]
     },
     "execution_count": 8,
     "metadata": {},
     "output_type": "execute_result"
    }
   ],
   "source": [
    "from sklearn.ensemble import RandomForestClassifier\n",
    "\n",
    "# Defining the model using default parameters\n",
    "M_RF = RandomForestClassifier()\n",
    "\n",
    "# Training the model\n",
    "M_RF.fit(xTrain,yTrain)"
   ]
  },
  {
   "cell_type": "markdown",
   "metadata": {
    "deletable": false,
    "editable": false,
    "nbgrader": {
     "grade": false,
     "locked": true,
     "solution": false
    }
   },
   "source": [
    "Performance of predictions using the training and validation set."
   ]
  },
  {
   "cell_type": "code",
   "execution_count": 9,
   "metadata": {
    "colab": {
     "base_uri": "https://localhost:8080/"
    },
    "deletable": false,
    "editable": false,
    "executionInfo": {
     "elapsed": 1581,
     "status": "ok",
     "timestamp": 1711034883207,
     "user": {
      "displayName": "Edgar Lobaton",
      "userId": "02856608958118334478"
     },
     "user_tz": 240
    },
    "id": "zCISpYPHmQhd",
    "nbgrader": {
     "grade": false,
     "locked": true,
     "solution": false
    },
    "outputId": "47760dc0-f808-462d-d71a-cc72fd62de83"
   },
   "outputs": [
    {
     "name": "stdout",
     "output_type": "stream",
     "text": [
      "Results for Validation:\n",
      "\n",
      "Training:  Acc = 1.000\n",
      "Non-Train: Acc = 0.849\n",
      "Training:  BalAcc = 1.000\n",
      "Non-Train: BalAcc = 0.777\n"
     ]
    },
    {
     "data": {
      "image/png": "[encoded data removed]",
      "text/plain": [
       "<Figure size 432x288 with 2 Axes>"
      ]
     },
     "metadata": {
      "needs_background": "light"
     },
     "output_type": "display_data"
    }
   ],
   "source": [
    "yTrainHat = M_RF.predict(xTrain)\n",
    "yValHat = M_RF.predict(xVal)\n",
    "\n",
    "print('Results for Validation:\\n')\n",
    "summaryPerf(yTrain,yTrainHat,yVal,yValHat)"
   ]
  },
  {
   "cell_type": "markdown",
   "metadata": {
    "deletable": false,
    "editable": false,
    "nbgrader": {
     "grade": false,
     "locked": true,
     "solution": false
    }
   },
   "source": [
    "### Training MLPs\n",
    "\n",
    "Our main objective will be to do some optimization on the architecture. Let us begin by defining some helper functions."
   ]
  },
  {
   "cell_type": "code",
   "execution_count": 10,
   "metadata": {
    "deletable": false,
    "editable": false,
    "executionInfo": {
     "elapsed": 253,
     "status": "ok",
     "timestamp": 1711035040557,
     "user": {
      "displayName": "Edgar Lobaton",
      "userId": "02856608958118334478"
     },
     "user_tz": 240
    },
    "id": "JRa1XfOZmQhd",
    "nbgrader": {
     "grade": false,
     "locked": true,
     "solution": false
    }
   },
   "outputs": [],
   "source": [
    "import torch\n",
    "import torch.nn as nn\n",
    "\n",
    "# Creating a wrapper so we have the same interface for all the methods. This wrapper takes as an\n",
    "# input an mlp model so we can reuse it with different model architectures.\n",
    "class NetWrapper:\n",
    "  def __init__(self,model,device,epochs,weights):\n",
    "    self.model = model\n",
    "    self.loss_fn = nn.CrossEntropyLoss(weight = torch.tensor(weights))\n",
    "    self.optimizer = torch.optim.Adam(self.model.parameters(), lr=1e-3)\n",
    "    self.device = device\n",
    "    self.epochs = epochs\n",
    "\n",
    "  def fit(self,X,y):\n",
    "    X = torch.from_numpy(X).float()\n",
    "    X = X.to(self.device)\n",
    "    y = torch.from_numpy(y).long()\n",
    "    y = y.to(self.device)\n",
    "\n",
    "    for t in range(self.epochs):\n",
    "      pred = self.model(X)\n",
    "      loss = self.loss_fn(pred, y)\n",
    "\n",
    "      self.optimizer.zero_grad()\n",
    "      loss.backward()\n",
    "      self.optimizer.step()\n",
    "\n",
    "      if t%1000 == 999:\n",
    "        print(\"[Epoch {t:5d} of {epochs}] loss: {loss:1.6f}\".format(\n",
    "            t=t+1,epochs=self.epochs,loss=loss))\n",
    "\n",
    "  def predict(self,X):\n",
    "    X = torch.from_numpy(X).float()\n",
    "    X = X.to(self.device)\n",
    "\n",
    "    pred = self.model(X)\n",
    "    pred = pred.cpu().detach().numpy()\n",
    "    pred = np.argmax(pred,axis=1)\n",
    "\n",
    "    return pred\n",
    "  \n",
    "# Defining the input and output size of the model\n",
    "INPUTSIZE = 12\n",
    "OUTPUTSIZE = 4\n",
    "\n",
    "# Specify the device that you will use here. You can change redefine this variable if needed (e.g.,\n",
    "# when using Colab and wanting to use the GPUs).\n",
    "DEVICE = 'cpu'\n",
    "\n",
    "# We are keeping it simple and just using a constant number of epochs for training. You can change\n",
    "# this when trying to optimize your model but making it too big can cause overfitting and lead to\n",
    "# your model taking too long to train, which can lead to failed submissions.\n",
    "EPOCHS = 6000\n",
    "\n",
    "# These are the weights used for the cross-entropy.\n",
    "WEIGHTS = [1.,1.,1.,1.]"
   ]
  },
  {
   "cell_type": "markdown",
   "metadata": {
    "deletable": false,
    "editable": false,
    "nbgrader": {
     "grade": false,
     "locked": true,
     "solution": false
    }
   },
   "source": [
    "#### 1-Layer MLP\n",
    "\n",
    "Our first MLP model is a single layer model. In this case, we don't have a choice on the number of neurons since the dimensions of the layer are pre-determined by the input and ouput."
   ]
  },
  {
   "cell_type": "code",
   "execution_count": 11,
   "metadata": {
    "deletable": false,
    "editable": false,
    "nbgrader": {
     "grade": false,
     "locked": true,
     "solution": false
    }
   },
   "outputs": [],
   "source": [
    "# Defining the neural network architecture\n",
    "class Net1(nn.Module):\n",
    "  def __init__(self):\n",
    "    super(Net1, self).__init__()\n",
    "    self.linear_relu_stack = nn.Sequential(\n",
    "        nn.Linear(INPUTSIZE,OUTPUTSIZE),\n",
    "    )\n",
    "\n",
    "  def forward(self, x):\n",
    "    logits = self.linear_relu_stack(x)\n",
    "    return logits"
   ]
  },
  {
   "cell_type": "code",
   "execution_count": 12,
   "metadata": {},
   "outputs": [
    {
     "name": "stdout",
     "output_type": "stream",
     "text": [
      "[0.33750841 6.0391252  4.62776753 1.52569951]\n"
     ]
    }
   ],
   "source": [
    "# Initializing the optimal weights and weights to the default values\n",
    "from sklearn.utils.class_weight import compute_class_weight\n",
    "\n",
    "class_weights = compute_class_weight(class_weight=\"balanced\", classes=np.unique(yTrain), y=yTrain)\n",
    "\n",
    "print (class_weights)\n",
    "\n",
    "epochs_opt = 6000\n",
    "weights_opt = [0.3,6.0,4.6,1.5]\n",
    "\n"
   ]
  },
  {
   "cell_type": "code",
   "execution_count": 13,
   "metadata": {
    "deletable": false,
    "editable": false,
    "nbgrader": {
     "grade": false,
     "locked": true,
     "solution": false
    }
   },
   "outputs": [
    {
     "name": "stdout",
     "output_type": "stream",
     "text": [
      "----------------------------------------------------------------\n",
      "        Layer (type)               Output Shape         Param #\n",
      "================================================================\n",
      "            Linear-1                 [-1, 1, 4]              52\n",
      "              Net1-2                 [-1, 1, 4]               0\n",
      "================================================================\n",
      "Total params: 52\n",
      "Trainable params: 52\n",
      "Non-trainable params: 0\n",
      "----------------------------------------------------------------\n",
      "Input size (MB): 0.00\n",
      "Forward/backward pass size (MB): 0.00\n",
      "Params size (MB): 0.00\n",
      "Estimated Total Size (MB): 0.00\n",
      "----------------------------------------------------------------\n",
      "\n",
      "[Epoch  1000 of 6000] loss: 0.797966\n",
      "[Epoch  2000 of 6000] loss: 0.642828\n",
      "[Epoch  3000 of 6000] loss: 0.584826\n",
      "[Epoch  4000 of 6000] loss: 0.556731\n",
      "[Epoch  5000 of 6000] loss: 0.541014\n",
      "[Epoch  6000 of 6000] loss: 0.531564\n"
     ]
    }
   ],
   "source": [
    "# Defining the Model\n",
    "model = Net1().to(DEVICE)\n",
    "M1 = NetWrapper(model,DEVICE,epochs_opt,weights_opt)\n",
    "\n",
    "# Displaying a summary\n",
    "fncs.summary(M1.model,(1,INPUTSIZE))\n",
    "\n",
    "# Training the model\n",
    "M1.fit(xTrain,yTrain)"
   ]
  },
  {
   "cell_type": "markdown",
   "metadata": {
    "deletable": false,
    "editable": false,
    "nbgrader": {
     "grade": false,
     "locked": true,
     "solution": false
    }
   },
   "source": [
    "Performance on training and validation sets."
   ]
  },
  {
   "cell_type": "code",
   "execution_count": 14,
   "metadata": {
    "deletable": false,
    "editable": false,
    "nbgrader": {
     "grade": false,
     "locked": true,
     "solution": false
    }
   },
   "outputs": [
    {
     "name": "stdout",
     "output_type": "stream",
     "text": [
      "Results for Validation:\n",
      "\n",
      "Training:  Acc = 0.698\n",
      "Non-Train: Acc = 0.671\n",
      "Training:  BalAcc = 0.810\n",
      "Non-Train: BalAcc = 0.818\n"
     ]
    },
    {
     "data": {
      "image/png": "[encoded data removed]",
      "text/plain": [
       "<Figure size 432x288 with 2 Axes>"
      ]
     },
     "metadata": {
      "needs_background": "light"
     },
     "output_type": "display_data"
    }
   ],
   "source": [
    "yTrainHat1 = M1.predict(xTrain)\n",
    "yValHat1 = M1.predict(xVal)\n",
    "\n",
    "print('Results for Validation:\\n')\n",
    "summaryPerf(yTrain,yTrainHat1,yVal,yValHat1)"
   ]
  },
  {
   "cell_type": "code",
   "execution_count": 15,
   "metadata": {
    "deletable": false,
    "editable": false,
    "nbgrader": {
     "grade": true,
     "grade_id": "MLP1",
     "locked": true,
     "points": "10",
     "solution": false
    }
   },
   "outputs": [],
   "source": [
    "# You should be able to get get a model with balanced accuracy greater than 0.75\n",
    "assert metrics.balanced_accuracy_score(yVal,yValHat1)>0.75"
   ]
  },
  {
   "cell_type": "markdown",
   "metadata": {
    "deletable": false,
    "editable": false,
    "nbgrader": {
     "grade": false,
     "locked": true,
     "solution": false
    }
   },
   "source": [
    "#### 2-Layer MLP\n",
    "\n",
    "In this case, we have a choice on the number of neurons for the hidden layer. Note that in this section, we will use the optimal number of epochs and weights found on the previous section."
   ]
  },
  {
   "cell_type": "code",
   "execution_count": 16,
   "metadata": {
    "deletable": false,
    "editable": false,
    "nbgrader": {
     "grade": false,
     "locked": true,
     "solution": false
    }
   },
   "outputs": [],
   "source": [
    "# Defining the neural network architecture\n",
    "class Net2(nn.Module):\n",
    "  def __init__(self,noNeurons):\n",
    "    super(Net2, self).__init__()\n",
    "    self.linear_relu_stack = nn.Sequential(\n",
    "        nn.Linear(INPUTSIZE,noNeurons),\n",
    "        nn.ReLU(),\n",
    "        nn.Linear(noNeurons,OUTPUTSIZE),\n",
    "    )\n",
    "\n",
    "  def forward(self, x):\n",
    "    logits = self.linear_relu_stack(x)\n",
    "    return logits"
   ]
  },
  {
   "cell_type": "markdown",
   "metadata": {
    "deletable": false,
    "editable": false,
    "nbgrader": {
     "grade": false,
     "locked": true,
     "solution": false
    }
   },
   "source": [
    "Defining and training the model with an arbitrary number of neurons."
   ]
  },
  {
   "cell_type": "code",
   "execution_count": 17,
   "metadata": {},
   "outputs": [],
   "source": [
    "# Setting the number of neurons. You can change this.\n",
    "noNeurons = 4"
   ]
  },
  {
   "cell_type": "code",
   "execution_count": 18,
   "metadata": {
    "deletable": false,
    "editable": false,
    "nbgrader": {
     "grade": false,
     "locked": true,
     "solution": false
    }
   },
   "outputs": [
    {
     "name": "stdout",
     "output_type": "stream",
     "text": [
      "----------------------------------------------------------------\n",
      "        Layer (type)               Output Shape         Param #\n",
      "================================================================\n",
      "            Linear-1                 [-1, 1, 4]              52\n",
      "              ReLU-2                 [-1, 1, 4]               0\n",
      "            Linear-3                 [-1, 1, 4]              20\n",
      "              Net2-4                 [-1, 1, 4]               0\n",
      "================================================================\n",
      "Total params: 72\n",
      "Trainable params: 72\n",
      "Non-trainable params: 0\n",
      "----------------------------------------------------------------\n",
      "Input size (MB): 0.00\n",
      "Forward/backward pass size (MB): 0.00\n",
      "Params size (MB): 0.00\n",
      "Estimated Total Size (MB): 0.00\n",
      "----------------------------------------------------------------\n",
      "\n",
      "[Epoch  1000 of 6000] loss: 0.592158\n",
      "[Epoch  2000 of 6000] loss: 0.490613\n",
      "[Epoch  3000 of 6000] loss: 0.438477\n",
      "[Epoch  4000 of 6000] loss: 0.415792\n",
      "[Epoch  5000 of 6000] loss: 0.405124\n",
      "[Epoch  6000 of 6000] loss: 0.399738\n"
     ]
    }
   ],
   "source": [
    "if(not SUBMISSION):\n",
    "    # Defining the Model\n",
    "    model = Net2(noNeurons).to(DEVICE)\n",
    "    M2 = NetWrapper(model,DEVICE,epochs_opt,weights_opt)\n",
    "\n",
    "    # Displaying a summary\n",
    "    fncs.summary(M2.model,(1,INPUTSIZE))\n",
    "\n",
    "    # Training the model\n",
    "    M2.fit(xTrain,yTrain)"
   ]
  },
  {
   "cell_type": "markdown",
   "metadata": {
    "deletable": false,
    "editable": false,
    "nbgrader": {
     "grade": false,
     "locked": true,
     "solution": false
    }
   },
   "source": [
    "Performance of predictions using the training and validation set."
   ]
  },
  {
   "cell_type": "code",
   "execution_count": 19,
   "metadata": {
    "deletable": false,
    "editable": false,
    "nbgrader": {
     "grade": false,
     "locked": true,
     "solution": false
    }
   },
   "outputs": [
    {
     "name": "stdout",
     "output_type": "stream",
     "text": [
      "Results for Validation:\n",
      "\n",
      "Training:  Acc = 0.755\n",
      "Non-Train: Acc = 0.738\n",
      "Training:  BalAcc = 0.843\n",
      "Non-Train: BalAcc = 0.843\n"
     ]
    },
    {
     "data": {
      "image/png": "[encoded data removed]",
      "text/plain": [
       "<Figure size 432x288 with 2 Axes>"
      ]
     },
     "metadata": {
      "needs_background": "light"
     },
     "output_type": "display_data"
    }
   ],
   "source": [
    "if(not SUBMISSION):\n",
    "    yTrainHat = M2.predict(xTrain)\n",
    "    yValHat = M2.predict(xVal)\n",
    "\n",
    "    print('Results for Validation:\\n')\n",
    "    summaryPerf(yTrain,yTrainHat,yVal,yValHat)"
   ]
  },
  {
   "cell_type": "code",
   "execution_count": 20,
   "metadata": {},
   "outputs": [
    {
     "name": "stdout",
     "output_type": "stream",
     "text": [
      "Unique values in the array: [0 1 2 3]\n"
     ]
    }
   ],
   "source": [
    "unique_values = np.unique(yValHat)\n",
    "\n",
    "# Print the unique values\n",
    "print(\"Unique values in the array:\", unique_values)"
   ]
  },
  {
   "cell_type": "markdown",
   "metadata": {
    "deletable": false,
    "editable": false,
    "nbgrader": {
     "grade": false,
     "locked": true,
     "solution": false
    }
   },
   "source": [
    "Performing a search for the number of neurons."
   ]
  },
  {
   "cell_type": "code",
   "execution_count": 21,
   "metadata": {
    "deletable": false,
    "editable": false,
    "nbgrader": {
     "grade": false,
     "locked": true,
     "solution": false
    }
   },
   "outputs": [
    {
     "name": "stdout",
     "output_type": "stream",
     "text": [
      "[Epoch  1000 of 6000] loss: 0.705011\n",
      "[Epoch  2000 of 6000] loss: 0.624592\n",
      "[Epoch  3000 of 6000] loss: 0.592003\n",
      "[Epoch  4000 of 6000] loss: 0.558709\n",
      "[Epoch  5000 of 6000] loss: 0.532024\n",
      "[Epoch  6000 of 6000] loss: 0.524995\n",
      "[Epoch  1000 of 6000] loss: 1.355576\n",
      "[Epoch  2000 of 6000] loss: 0.940503\n",
      "[Epoch  3000 of 6000] loss: 0.836193\n",
      "[Epoch  4000 of 6000] loss: 0.800953\n",
      "[Epoch  5000 of 6000] loss: 0.782627\n",
      "[Epoch  6000 of 6000] loss: 0.771208\n",
      "[Epoch  1000 of 6000] loss: 0.529448\n",
      "[Epoch  2000 of 6000] loss: 0.476942\n",
      "[Epoch  3000 of 6000] loss: 0.449993\n",
      "[Epoch  4000 of 6000] loss: 0.427321\n",
      "[Epoch  5000 of 6000] loss: 0.411099\n",
      "[Epoch  6000 of 6000] loss: 0.392856\n",
      "[Epoch  1000 of 6000] loss: 0.480721\n",
      "[Epoch  2000 of 6000] loss: 0.420508\n",
      "[Epoch  3000 of 6000] loss: 0.399838\n",
      "[Epoch  4000 of 6000] loss: 0.383418\n",
      "[Epoch  5000 of 6000] loss: 0.364583\n",
      "[Epoch  6000 of 6000] loss: 0.354587\n"
     ]
    },
    {
     "data": {
      "image/png": "[encoded data removed]",
      "text/plain": [
       "<Figure size 432x288 with 1 Axes>"
      ]
     },
     "metadata": {
      "needs_background": "light"
     },
     "output_type": "display_data"
    }
   ],
   "source": [
    "if(not SUBMISSION):\n",
    "    # Lists containing the balanced accuracy for training and validation sets.\n",
    "    accList_train = []\n",
    "    accList_val = []\n",
    "\n",
    "    # Setting a range of neurons \n",
    "    noNeuronsList = np.power(2,range(1,5))\n",
    "\n",
    "    for noNeurons in noNeuronsList:\n",
    "        # Defining and training the model\n",
    "        model = Net2(noNeurons).to(DEVICE)\n",
    "        M2 = NetWrapper(model,DEVICE,epochs_opt,weights_opt)\n",
    "        M2.fit(xTrain,yTrain)\n",
    "\n",
    "        # Computing the predictions\n",
    "        yTrainHat = M2.predict(xTrain)\n",
    "        yValHat = M2.predict(xVal)\n",
    "\n",
    "        # Storing the accuracies\n",
    "        accList_train.append(metrics.balanced_accuracy_score(yTrain,yTrainHat))\n",
    "        accList_val.append(metrics.balanced_accuracy_score(yVal,yValHat))\n",
    "\n",
    "    # Plotting the results\n",
    "    plt.plot(noNeuronsList,accList_train)\n",
    "    plt.plot(noNeuronsList,accList_val)\n",
    "    plt.legend(['Train Accuracy','Val Accuracy'])\n",
    "    plt.xlabel('Number of Neurons')\n",
    "    plt.show()"
   ]
  },
  {
   "cell_type": "code",
   "execution_count": 22,
   "metadata": {},
   "outputs": [],
   "source": [
    "# Initializing the number of neurons\n",
    "noNeurons1_opt = 7\n",
    "\n"
   ]
  },
  {
   "cell_type": "markdown",
   "metadata": {
    "deletable": false,
    "editable": false,
    "nbgrader": {
     "grade": false,
     "locked": true,
     "solution": false
    }
   },
   "source": [
    "Defining and training the optimal model."
   ]
  },
  {
   "cell_type": "code",
   "execution_count": 23,
   "metadata": {
    "deletable": false,
    "editable": false,
    "nbgrader": {
     "grade": false,
     "locked": true,
     "solution": false
    }
   },
   "outputs": [
    {
     "name": "stdout",
     "output_type": "stream",
     "text": [
      "----------------------------------------------------------------\n",
      "        Layer (type)               Output Shape         Param #\n",
      "================================================================\n",
      "            Linear-1                 [-1, 1, 7]              91\n",
      "              ReLU-2                 [-1, 1, 7]               0\n",
      "            Linear-3                 [-1, 1, 4]              32\n",
      "              Net2-4                 [-1, 1, 4]               0\n",
      "================================================================\n",
      "Total params: 123\n",
      "Trainable params: 123\n",
      "Non-trainable params: 0\n",
      "----------------------------------------------------------------\n",
      "Input size (MB): 0.00\n",
      "Forward/backward pass size (MB): 0.00\n",
      "Params size (MB): 0.00\n",
      "Estimated Total Size (MB): 0.00\n",
      "----------------------------------------------------------------\n",
      "\n",
      "[Epoch  1000 of 6000] loss: 0.638389\n",
      "[Epoch  2000 of 6000] loss: 0.491497\n",
      "[Epoch  3000 of 6000] loss: 0.432856\n",
      "[Epoch  4000 of 6000] loss: 0.407507\n",
      "[Epoch  5000 of 6000] loss: 0.396588\n",
      "[Epoch  6000 of 6000] loss: 0.388437\n"
     ]
    }
   ],
   "source": [
    "# Defining the Model\n",
    "model = Net2(noNeurons1_opt).to(DEVICE)\n",
    "M2 = NetWrapper(model,DEVICE,epochs_opt,weights_opt)\n",
    "\n",
    "# Displaying a summary\n",
    "fncs.summary(M2.model,(1,INPUTSIZE))\n",
    "\n",
    "# Training the model\n",
    "M2.fit(xTrain,yTrain)"
   ]
  },
  {
   "cell_type": "markdown",
   "metadata": {
    "deletable": false,
    "editable": false,
    "nbgrader": {
     "grade": false,
     "locked": true,
     "solution": false
    }
   },
   "source": [
    "Performance on the training and validation sets."
   ]
  },
  {
   "cell_type": "code",
   "execution_count": 24,
   "metadata": {
    "deletable": false,
    "editable": false,
    "nbgrader": {
     "grade": false,
     "locked": true,
     "solution": false
    }
   },
   "outputs": [
    {
     "name": "stdout",
     "output_type": "stream",
     "text": [
      "Results for Validation:\n",
      "\n",
      "Training:  Acc = 0.753\n",
      "Non-Train: Acc = 0.750\n",
      "Training:  BalAcc = 0.846\n",
      "Non-Train: BalAcc = 0.847\n"
     ]
    },
    {
     "data": {
      "image/png": "[encoded data removed]",
      "text/plain": [
       "<Figure size 432x288 with 2 Axes>"
      ]
     },
     "metadata": {
      "needs_background": "light"
     },
     "output_type": "display_data"
    }
   ],
   "source": [
    "yTrainHat2 = M2.predict(xTrain)\n",
    "yValHat2 = M2.predict(xVal)\n",
    "\n",
    "print('Results for Validation:\\n')\n",
    "summaryPerf(yTrain,yTrainHat2,yVal,yValHat2)"
   ]
  },
  {
   "cell_type": "code",
   "execution_count": 25,
   "metadata": {
    "deletable": false,
    "editable": false,
    "nbgrader": {
     "grade": true,
     "grade_id": "MLP2",
     "locked": true,
     "points": "10",
     "solution": false
    }
   },
   "outputs": [],
   "source": [
    "# You should be able to get get a model with balanced accuracy greater than 0.82\n",
    "assert metrics.balanced_accuracy_score(yVal,yValHat2)>0.82"
   ]
  },
  {
   "cell_type": "markdown",
   "metadata": {
    "deletable": false,
    "editable": false,
    "nbgrader": {
     "grade": false,
     "locked": true,
     "solution": false
    }
   },
   "source": [
    "#### 3-Layer MLP\n",
    "\n",
    "When defining a 3-layer MLP, we have a choice for two of the neurons. We will set the first hidden layer to have the same number of layers as the optimal value found from the previous sections. We will also reuse the weights and number of epochs.\n",
    "\n",
    "In this case, you will have to complete the neural network below to have an additional hidden layer followed by a ReLU activation."
   ]
  },
  {
   "cell_type": "code",
   "execution_count": 26,
   "metadata": {},
   "outputs": [],
   "source": [
    "# Defining the neural network architecture\n",
    "class Net3(nn.Module):\n",
    "  def __init__(self,noNeurons1,noNeurons2):\n",
    "    super(Net3, self).__init__()\n",
    "    self.linear_relu_stack = nn.Sequential(\n",
    "        nn.Linear(INPUTSIZE, noNeurons1),\n",
    "        nn.ReLU(),\n",
    "        nn.Linear(noNeurons1, noNeurons2),\n",
    "        nn.ReLU(),\n",
    "        nn.Linear(noNeurons2, OUTPUTSIZE),\n",
    "    )\n",
    "\n",
    "  def forward(self, x):\n",
    "    logits = self.linear_relu_stack(x)\n",
    "    return logits"
   ]
  },
  {
   "cell_type": "code",
   "execution_count": 27,
   "metadata": {
    "deletable": false,
    "editable": false,
    "nbgrader": {
     "grade": true,
     "grade_id": "MLP3.1",
     "locked": true,
     "points": "10",
     "solution": false
    }
   },
   "outputs": [],
   "source": [
    "# Generating an arbitrary model so extract its layers\n",
    "model = Net3(4,4).to(DEVICE)\n",
    "layers = dict(model.named_modules())\n",
    "layers = layers['linear_relu_stack']\n",
    "\n",
    "# Checking that the types of layers are correct. If this fails is because you are not specifying\n",
    "# the correct type of layers in your model.\n",
    "assert isinstance(layers[0],torch.nn.Linear)\n",
    "assert isinstance(layers[1],torch.nn.ReLU)\n",
    "assert isinstance(layers[2],torch.nn.Linear)\n",
    "assert isinstance(layers[3],torch.nn.ReLU)\n",
    "assert isinstance(layers[4],torch.nn.Linear)"
   ]
  },
  {
   "cell_type": "markdown",
   "metadata": {
    "deletable": false,
    "editable": false,
    "nbgrader": {
     "grade": false,
     "locked": true,
     "solution": false
    }
   },
   "source": [
    "Performing a search for the number of neurons."
   ]
  },
  {
   "cell_type": "code",
   "execution_count": 28,
   "metadata": {
    "deletable": false,
    "editable": false,
    "nbgrader": {
     "grade": false,
     "locked": true,
     "solution": false
    }
   },
   "outputs": [
    {
     "name": "stdout",
     "output_type": "stream",
     "text": [
      "[Epoch  1000 of 6000] loss: 0.895762\n",
      "[Epoch  2000 of 6000] loss: 0.737539\n",
      "[Epoch  3000 of 6000] loss: 0.659906\n",
      "[Epoch  4000 of 6000] loss: 0.628105\n",
      "[Epoch  5000 of 6000] loss: 0.611024\n",
      "[Epoch  6000 of 6000] loss: 0.601224\n",
      "[Epoch  1000 of 6000] loss: 0.550336\n",
      "[Epoch  2000 of 6000] loss: 0.400196\n",
      "[Epoch  3000 of 6000] loss: 0.386522\n",
      "[Epoch  4000 of 6000] loss: 0.381605\n",
      "[Epoch  5000 of 6000] loss: 0.379126\n",
      "[Epoch  6000 of 6000] loss: 0.377712\n",
      "[Epoch  1000 of 6000] loss: 0.449806\n",
      "[Epoch  2000 of 6000] loss: 0.396993\n",
      "[Epoch  3000 of 6000] loss: 0.382901\n",
      "[Epoch  4000 of 6000] loss: 0.376506\n",
      "[Epoch  5000 of 6000] loss: 0.373224\n",
      "[Epoch  6000 of 6000] loss: 0.371379\n",
      "[Epoch  1000 of 6000] loss: 0.432337\n",
      "[Epoch  2000 of 6000] loss: 0.390906\n",
      "[Epoch  3000 of 6000] loss: 0.378100\n",
      "[Epoch  4000 of 6000] loss: 0.370751\n",
      "[Epoch  5000 of 6000] loss: 0.366851\n",
      "[Epoch  6000 of 6000] loss: 0.364937\n"
     ]
    },
    {
     "data": {
      "image/png": "[encoded data removed]",
      "text/plain": [
       "<Figure size 432x288 with 1 Axes>"
      ]
     },
     "metadata": {
      "needs_background": "light"
     },
     "output_type": "display_data"
    }
   ],
   "source": [
    "if(not SUBMISSION):\n",
    "    # Lists containing the balanced accuracy for training and validation sets.\n",
    "    accList_train = []\n",
    "    accList_val = []\n",
    "\n",
    "    # Setting a range of neurons \n",
    "    noNeuronsList = np.power(2,range(1,5))\n",
    "\n",
    "    for noNeurons in noNeuronsList:\n",
    "        # Defining and training the model\n",
    "        model = Net3(noNeurons1_opt,noNeurons).to(DEVICE)\n",
    "        M3 = NetWrapper(model,DEVICE,epochs_opt,weights_opt)\n",
    "        M3.fit(xTrain,yTrain)\n",
    "\n",
    "        # Computing the predictions\n",
    "        yTrainHat = M3.predict(xTrain)\n",
    "        yValHat = M3.predict(xVal)\n",
    "\n",
    "        # Storing the accuracies\n",
    "        accList_train.append(metrics.balanced_accuracy_score(yTrain,yTrainHat))\n",
    "        accList_val.append(metrics.balanced_accuracy_score(yVal,yValHat))\n",
    "\n",
    "    # Plotting the results\n",
    "    plt.plot(noNeuronsList,accList_train)\n",
    "    plt.plot(noNeuronsList,accList_val)\n",
    "    plt.legend(['Train Accuracy','Val Accuracy'])\n",
    "    plt.xlabel('Number of Neurons')\n",
    "    plt.show()"
   ]
  },
  {
   "cell_type": "code",
   "execution_count": 29,
   "metadata": {},
   "outputs": [],
   "source": [
    "# Initializing the number of neurons\n",
    "noNeurons2_opt = 8\n",
    "\n",
    "\n"
   ]
  },
  {
   "cell_type": "markdown",
   "metadata": {
    "deletable": false,
    "editable": false,
    "nbgrader": {
     "grade": false,
     "locked": true,
     "solution": false
    }
   },
   "source": [
    "Defining and training the optimal model."
   ]
  },
  {
   "cell_type": "code",
   "execution_count": 30,
   "metadata": {
    "deletable": false,
    "editable": false,
    "nbgrader": {
     "grade": false,
     "locked": true,
     "solution": false
    }
   },
   "outputs": [
    {
     "name": "stdout",
     "output_type": "stream",
     "text": [
      "----------------------------------------------------------------\n",
      "        Layer (type)               Output Shape         Param #\n",
      "================================================================\n",
      "            Linear-1                 [-1, 1, 7]              91\n",
      "              ReLU-2                 [-1, 1, 7]               0\n",
      "            Linear-3                 [-1, 1, 8]              64\n",
      "              ReLU-4                 [-1, 1, 8]               0\n",
      "            Linear-5                 [-1, 1, 4]              36\n",
      "              Net3-6                 [-1, 1, 4]               0\n",
      "================================================================\n",
      "Total params: 191\n",
      "Trainable params: 191\n",
      "Non-trainable params: 0\n",
      "----------------------------------------------------------------\n",
      "Input size (MB): 0.00\n",
      "Forward/backward pass size (MB): 0.00\n",
      "Params size (MB): 0.00\n",
      "Estimated Total Size (MB): 0.00\n",
      "----------------------------------------------------------------\n",
      "\n",
      "[Epoch  1000 of 6000] loss: 0.438472\n",
      "[Epoch  2000 of 6000] loss: 0.400282\n",
      "[Epoch  3000 of 6000] loss: 0.385979\n",
      "[Epoch  4000 of 6000] loss: 0.373447\n",
      "[Epoch  5000 of 6000] loss: 0.368914\n",
      "[Epoch  6000 of 6000] loss: 0.366170\n"
     ]
    }
   ],
   "source": [
    "# Defining the Model\n",
    "model = Net3(noNeurons1_opt,noNeurons2_opt).to(DEVICE)\n",
    "M3 = NetWrapper(model,DEVICE,epochs_opt,weights_opt)\n",
    "\n",
    "# Displaying a summary\n",
    "fncs.summary(M3.model,(1,INPUTSIZE))\n",
    "\n",
    "# Training the model\n",
    "M3.fit(xTrain,yTrain)"
   ]
  },
  {
   "cell_type": "markdown",
   "metadata": {
    "deletable": false,
    "editable": false,
    "nbgrader": {
     "grade": false,
     "locked": true,
     "solution": false
    }
   },
   "source": [
    "Performance on the training and validation sets."
   ]
  },
  {
   "cell_type": "code",
   "execution_count": 31,
   "metadata": {
    "deletable": false,
    "editable": false,
    "nbgrader": {
     "grade": false,
     "locked": true,
     "solution": false
    }
   },
   "outputs": [
    {
     "name": "stdout",
     "output_type": "stream",
     "text": [
      "Results for Validation:\n",
      "\n",
      "Training:  Acc = 0.773\n",
      "Non-Train: Acc = 0.789\n",
      "Training:  BalAcc = 0.855\n",
      "Non-Train: BalAcc = 0.861\n"
     ]
    },
    {
     "data": {
      "image/png": "[encoded data removed]",
      "text/plain": [
       "<Figure size 432x288 with 2 Axes>"
      ]
     },
     "metadata": {
      "needs_background": "light"
     },
     "output_type": "display_data"
    }
   ],
   "source": [
    "yTrainHat3 = M3.predict(xTrain)\n",
    "yValHat3 = M3.predict(xVal)\n",
    "\n",
    "print('Results for Validation:\\n')\n",
    "summaryPerf(yTrain,yTrainHat3,yVal,yValHat3)"
   ]
  },
  {
   "cell_type": "code",
   "execution_count": 32,
   "metadata": {
    "deletable": false,
    "editable": false,
    "nbgrader": {
     "grade": true,
     "grade_id": "MLP3.2",
     "locked": true,
     "points": "10",
     "solution": false
    }
   },
   "outputs": [],
   "source": [
    "# You should be able to get get a model with balanced accuracy greater than 0.84\n",
    "assert metrics.balanced_accuracy_score(yVal,yValHat3)>0.84"
   ]
  },
  {
   "cell_type": "code",
   "execution_count": null,
   "metadata": {},
   "outputs": [],
   "source": []
  },
  {
   "cell_type": "code",
   "execution_count": null,
   "metadata": {},
   "outputs": [],
   "source": []
  }
 ],
 "metadata": {
  "accelerator": "GPU",
  "colab": {
   "gpuType": "T4",
   "provenance": []
  },
  "kernelspec": {
   "display_name": "Python 3 [3.10]",
   "language": "python",
   "name": "python3"
  },
  "language_info": {
   "codemirror_mode": {
    "name": "ipython",
    "version": 3
   },
   "file_extension": ".py",
   "mimetype": "text/x-python",
   "name": "python",
   "nbconvert_exporter": "python",
   "pygments_lexer": "ipython3",
   "version": "3.10.2"
  }
 },
 "nbformat": 4,
 "nbformat_minor": 4
}
