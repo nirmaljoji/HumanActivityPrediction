{
 "cells": [
  {
   "cell_type": "markdown",
   "id": "504bb1c7",
   "metadata": {
    "deletable": false,
    "editable": false,
    "nbgrader": {
     "grade": false,
     "locked": true,
     "solution": false
    }
   },
   "source": [
    "### Instructions\n",
    "\n",
    "1. Upload your `x` and `y` values into the work directory. Wait for the files to finish uploading.\n",
    "2. Run this notebook to check if the files you uploaded to the work directory are in the correct format. This is similar to what you did for ProjCC.\n",
    "3. Click the Submit button. Wait for the grading to finish.\n",
    "4. Check your accuracy in the Grades tab.\n",
    "5. To check the Leaderboard, click the Leaderboard button next to the Submit button.\n",
    "6. **Only the latest score is graded and shown on the leaderboard. If you want to resubmit your CSV files, make sure to take a backup of your previous CSV files so that if you score lower after resubmission, you can reupload your backup files to get back your previous best score.**\n",
    "7. **The maximum number of submissions is 8.**"
   ]
  },
  {
   "cell_type": "code",
   "execution_count": 1,
   "id": "eb97132d",
   "metadata": {
    "deletable": false,
    "editable": false,
    "nbgrader": {
     "grade": false,
     "locked": true,
     "solution": false
    }
   },
   "outputs": [
    {
     "data": {
      "text/plain": [
       "<module 'fncs' from '/voc/work/fncs.py'>"
      ]
     },
     "execution_count": 1,
     "metadata": {},
     "output_type": "execute_result"
    }
   ],
   "source": [
    "import numpy as np\n",
    "import importlib\n",
    "import fncs\n",
    "import matplotlib.pyplot as plt\n",
    "import random\n",
    "\n",
    "importlib.reload(fncs)"
   ]
  },
  {
   "cell_type": "markdown",
   "id": "d05dae83",
   "metadata": {
    "deletable": false,
    "editable": false,
    "nbgrader": {
     "grade": false,
     "locked": true,
     "solution": false
    }
   },
   "source": [
    "### Loading the Data and Performing Checks\n",
    "\n",
    "Start by uploading your `x` and `y` values into the work directory. The files should not be renamed. After doing so, run the cell below to load the data. "
   ]
  },
  {
   "cell_type": "code",
   "execution_count": 2,
   "id": "9d0db12d",
   "metadata": {
    "deletable": false,
    "editable": false,
    "nbgrader": {
     "grade": false,
     "locked": true,
     "solution": false
    }
   },
   "outputs": [],
   "source": [
    "idTest = [1,2,3,4]\n",
    "dataFolder = './'\n",
    "\n",
    "yPred = []\n",
    "for k,id in enumerate(idTest):\n",
    "    xt, xv, yt, yv = fncs.loadTrial(dataFolder,id=id)\n",
    "    yPred.append({'t':yt,'v':yv})"
   ]
  },
  {
   "cell_type": "markdown",
   "id": "06927d90",
   "metadata": {
    "deletable": false,
    "editable": false,
    "nbgrader": {
     "grade": false,
     "locked": true,
     "solution": false
    }
   },
   "source": [
    "Now we check some of the formatting for the predictions. These are the same checks as the ones in ProjCC. Note that we also need the `x` values and assume that those are not changed. First, we are doing a check on the timestamps of the predictions."
   ]
  },
  {
   "cell_type": "code",
   "execution_count": 3,
   "id": "e01dd607",
   "metadata": {
    "deletable": false,
    "editable": false,
    "nbgrader": {
     "grade": false,
     "grade_id": "Timestamp checks",
     "locked": true,
     "points": "0",
     "solution": false
    }
   },
   "outputs": [],
   "source": [
    "y_t_start = [0.02, 0.02, 0.02, 0.02]\n",
    "y_t_end = [857.62, 861.82, 1203.42, 949.72]\n",
    "y_len = [8577, 8619, 12035, 9498]\n",
    "\n",
    "# First checking that the 't' values looks good. If this fails then either the data was not loaded\n",
    "# correctly or they were overwritten to be the incorrect values.\n",
    "for k in range(len(yPred)):\n",
    "    assert yPred[k]['t'][0]==y_t_start[k]\n",
    "    assert yPred[k]['t'][-1]==y_t_end[k]\n",
    "    assert len(yPred[k]['t'])==y_len[k]"
   ]
  },
  {
   "cell_type": "markdown",
   "id": "051cc083",
   "metadata": {
    "deletable": false,
    "editable": false,
    "nbgrader": {
     "grade": false,
     "locked": true,
     "solution": false
    }
   },
   "source": [
    "Finally, we are doing a check on the `y`-values"
   ]
  },
  {
   "cell_type": "code",
   "execution_count": 4,
   "id": "ef6f3cfa",
   "metadata": {
    "deletable": false,
    "editable": false,
    "nbgrader": {
     "grade": false,
     "grade_id": "y-value checks",
     "locked": true,
     "points": "0",
     "solution": false
    }
   },
   "outputs": [
    {
     "name": "stdout",
     "output_type": "stream",
     "text": [
      "Trial00: n0=0.45 n1=0.13 n2=0.08 n3=0.35\n",
      "Trial01: n0=0.48 n1=0.12 n2=0.05 n3=0.35\n",
      "Trial02: n0=0.90 n1=0.00 n2=0.05 n3=0.04\n",
      "Trial03: n0=0.89 n1=0.01 n2=0.02 n3=0.09\n"
     ]
    }
   ],
   "source": [
    "y_t_start = [0.02, 0.02, 0.02, 0.02]\n",
    "y_t_end = [857.62, 861.82, 1203.42, 949.72]\n",
    "y_len = [8577, 8619, 12035, 9498]\n",
    "\n",
    "# Checking the 'v' values.\n",
    "for k in range(len(yPred)):\n",
    "    assert len(yPred[k]['v'])==y_len[k]\n",
    "\n",
    "    # Extracting the proportions of your predicitions\n",
    "    n0 = np.sum(yPred[k]['v']==0)\n",
    "    n1 = np.sum(yPred[k]['v']==1)\n",
    "    n2 = np.sum(yPred[k]['v']==2)\n",
    "    n3 = np.sum(yPred[k]['v']==3)\n",
    "    print('Trial{:02d}: n0={:4.2f} n1={:4.2f} n2={:4.2f} n3={:4.2f}'.format(k,\n",
    "                                        n0/y_len[k],n1/y_len[k],n2/y_len[k],n3/y_len[k]))\n",
    "\n",
    "    # Checking that things add up to 1\n",
    "    assert (n0+n1+n2+n3)==y_len[k]"
   ]
  },
  {
   "cell_type": "code",
   "execution_count": null,
   "id": "5cc372f9-2392-4d15-8489-b10d0e6d8207",
   "metadata": {},
   "outputs": [],
   "source": []
  }
 ],
 "metadata": {
  "kernelspec": {
   "display_name": "Python 3 [3.10]",
   "language": "python",
   "name": "python3"
  },
  "language_info": {
   "codemirror_mode": {
    "name": "ipython",
    "version": 3
   },
   "file_extension": ".py",
   "mimetype": "text/x-python",
   "name": "python",
   "nbconvert_exporter": "python",
   "pygments_lexer": "ipython3",
   "version": "3.10.2"
  }
 },
 "nbformat": 4,
 "nbformat_minor": 5
}
